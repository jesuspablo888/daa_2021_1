{
  "nbformat": 4,
  "nbformat_minor": 0,
  "metadata": {
    "colab": {
      "name": "30_Noviembre.ipynb",
      "provenance": [],
      "authorship_tag": "ABX9TyPH3EvYd09NU5n7g6q6oQs7",
      "include_colab_link": true
    },
    "kernelspec": {
      "name": "python3",
      "display_name": "Python 3"
    }
  },
  "cells": [
    {
      "cell_type": "markdown",
      "metadata": {
        "id": "view-in-github",
        "colab_type": "text"
      },
      "source": [
        "<a href=\"https://colab.research.google.com/github/jesuspablo888/daa_2021_1/blob/master/30_Noviembre.ipynb\" target=\"_parent\"><img src=\"https://colab.research.google.com/assets/colab-badge.svg\" alt=\"Open In Colab\"/></a>"
      ]
    },
    {
      "cell_type": "code",
      "metadata": {
        "colab": {
          "base_uri": "https://localhost:8080/"
        },
        "id": "HhUeQV04lKN6",
        "outputId": "582934b2-f942-45bd-b91f-ce71482f68c6"
      },
      "source": [
        "A = \"AELASESLALSALSALSALSALSALASLSLSLSLSALALALALASALSALLSALAS\"\n",
        "P = \"LAS\"\n",
        "N = len(A)\n",
        "M = len(P)\n",
        "def fuerza_bruta(A, P):\n",
        "  for i in range(N-M+1):\n",
        "    for j in range(M):\n",
        "      if A[i+j] != P[j]:\n",
        "        break\n",
        "      else:\n",
        "        pass\n",
        "    if j+1 == M and A[i+j] == P[j]:\n",
        "      print(\"Encintrad en la posicion: \",i)\n",
        "fuerza_bruta(A,P)"
      ],
      "execution_count": 3,
      "outputs": [
        {
          "output_type": "stream",
          "text": [
            "Encintrad en la posicion:  2\n",
            "Encintrad en la posicion:  24\n",
            "Encintrad en la posicion:  42\n",
            "Encintrad en la posicion:  53\n"
          ],
          "name": "stdout"
        }
      ]
    }
  ]
}