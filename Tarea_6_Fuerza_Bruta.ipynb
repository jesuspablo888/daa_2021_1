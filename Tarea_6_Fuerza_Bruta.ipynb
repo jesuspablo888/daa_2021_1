{
  "nbformat": 4,
  "nbformat_minor": 0,
  "metadata": {
    "colab": {
      "name": "Tarea 6_Fuerza Bruta.ipynb",
      "provenance": [],
      "authorship_tag": "ABX9TyNmhe2YaSEsfdCNgXikUvdO",
      "include_colab_link": true
    },
    "kernelspec": {
      "name": "python3",
      "display_name": "Python 3"
    }
  },
  "cells": [
    {
      "cell_type": "markdown",
      "metadata": {
        "id": "view-in-github",
        "colab_type": "text"
      },
      "source": [
        "<a href=\"https://colab.research.google.com/github/jesuspablo888/daa_2021_1/blob/master/Tarea_6_Fuerza_Bruta.ipynb\" target=\"_parent\"><img src=\"https://colab.research.google.com/assets/colab-badge.svg\" alt=\"Open In Colab\"/></a>"
      ]
    },
    {
      "cell_type": "code",
      "metadata": {
        "colab": {
          "base_uri": "https://localhost:8080/"
        },
        "id": "HqHPA5Gzb6NA",
        "outputId": "403c6f5b-785d-4e98-a97d-52dff7a5e8dd"
      },
      "source": [
        "l=\"\"\"El lema que anima a la Universidad Nacional, Por mi raza hablará el espíritu,\n",
        "revela la vocación humanística\n",
        "con la que fue concebida. El autor de esta célebre frase, José Vasconcelos, asumió la\n",
        "rectoría en 1920, en una\n",
        "época en que las esperanzas de la Revolución aún estaban vivas,\n",
        " había una gran fe en la Patria y el ánimo redentor se extendía en el ambiente.\"\"\"\n",
        "print(l)\n",
        "print(\"---------------------------------------------------------------------------\")\n",
        "lmin=l.lower().split()\n",
        "for i in lmin:\n",
        "    cont=0\n",
        "    for j in lmin:\n",
        "        if i.strip(',').strip('.') == j.strip(',').strip('.'):\n",
        "            cont += 1\n",
        "            lmin.remove(j)\n",
        "    print(f\"Palabra: \\\"{i}\\\", #Repeticiones= {cont}\")"
      ],
      "execution_count": 11,
      "outputs": [
        {
          "output_type": "stream",
          "text": [
            "El lema que anima a la Universidad Nacional, Por mi raza hablará el espíritu,\n",
            "revela la vocación humanística\n",
            "con la que fue concebida. El autor de esta célebre frase, José Vasconcelos, asumió la\n",
            "rectoría en 1920, en una\n",
            "época en que las esperanzas de la Revolución aún estaban vivas,\n",
            " había una gran fe en la Patria y el ánimo redentor se extendía en el ambiente.\n",
            "---------------------------------------------------------------------------\n",
            "Palabra: \"el\", #Repeticiones= 5\n",
            "Palabra: \"que\", #Repeticiones= 3\n",
            "Palabra: \"a\", #Repeticiones= 1\n",
            "Palabra: \"universidad\", #Repeticiones= 1\n",
            "Palabra: \"por\", #Repeticiones= 1\n",
            "Palabra: \"raza\", #Repeticiones= 1\n",
            "Palabra: \"espíritu,\", #Repeticiones= 1\n",
            "Palabra: \"la\", #Repeticiones= 6\n",
            "Palabra: \"con\", #Repeticiones= 1\n",
            "Palabra: \"concebida.\", #Repeticiones= 1\n",
            "Palabra: \"de\", #Repeticiones= 2\n",
            "Palabra: \"célebre\", #Repeticiones= 1\n",
            "Palabra: \"josé\", #Repeticiones= 1\n",
            "Palabra: \"asumió\", #Repeticiones= 1\n",
            "Palabra: \"en\", #Repeticiones= 5\n",
            "Palabra: \"una\", #Repeticiones= 2\n",
            "Palabra: \"las\", #Repeticiones= 1\n",
            "Palabra: \"revolución\", #Repeticiones= 1\n",
            "Palabra: \"estaban\", #Repeticiones= 1\n",
            "Palabra: \"había\", #Repeticiones= 1\n",
            "Palabra: \"fe\", #Repeticiones= 1\n",
            "Palabra: \"y\", #Repeticiones= 1\n",
            "Palabra: \"redentor\", #Repeticiones= 1\n",
            "Palabra: \"extendía\", #Repeticiones= 1\n"
          ],
          "name": "stdout"
        }
      ]
    }
  ]
}