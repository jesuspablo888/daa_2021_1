{
  "nbformat": 4,
  "nbformat_minor": 0,
  "metadata": {
    "colab": {
      "name": "13_enero.ipynb",
      "provenance": [],
      "authorship_tag": "ABX9TyOZlxckmccbMkJQvPMFQqDo",
      "include_colab_link": true
    },
    "kernelspec": {
      "name": "python3",
      "display_name": "Python 3"
    }
  },
  "cells": [
    {
      "cell_type": "markdown",
      "metadata": {
        "id": "view-in-github",
        "colab_type": "text"
      },
      "source": [
        "<a href=\"https://colab.research.google.com/github/jesuspablo888/daa_2021_1/blob/master/13_enero.ipynb\" target=\"_parent\"><img src=\"https://colab.research.google.com/assets/colab-badge.svg\" alt=\"Open In Colab\"/></a>"
      ]
    },
    {
      "cell_type": "code",
      "metadata": {
        "id": "PntaktO6L4FY"
      },
      "source": [
        "class NodoArbol:\r\n",
        "  def __init__(self, value, left=None, rigth=None):\r\n",
        "    self.data = value\r\n",
        "    self.left =left\r\n",
        "    self.rigth = rigth"
      ],
      "execution_count": 2,
      "outputs": []
    },
    {
      "cell_type": "markdown",
      "metadata": {
        "id": "LPk1iW1aMSsl"
      },
      "source": [
        "# Árbol bninario de busqueda\r\n",
        "Los nodos a la izquierda son menores a la raiz y los nodos a la derecha son mayores a la raiz.\r\n",
        "Pueden ser recorridos en: pre.orden, in-orden y post-orden."
      ]
    },
    {
      "cell_type": "code",
      "metadata": {
        "id": "SMUJI7pxMLGN"
      },
      "source": [
        "class BinarySearchTree:\r\n",
        "  def __init__(self):\r\n",
        "    self.__root = None\r\n",
        "  \r\n",
        "  def insert(self, value):\r\n",
        "    if self.__root == None:\r\n",
        "      self.__root = NodoArbol(value,None,None)\r\n",
        "    else:\r\n",
        "      # preguntar si value es menor que root de ser el caso \r\n",
        "      #insertar ala isquierda PERO.. puede ser le caos que el\r\n",
        "      # sub arbol tenga muchos elementos\r\n",
        "      self.__insert_nodo__(self.__root, value)\r\n",
        "  \r\n",
        "  def __insert_nodo__(self, nodo, value):\r\n",
        "    if nodo.data == value:\r\n",
        "      pass # no se admiten valores repetidos\r\n",
        "    elif value < nodo.data:# si es true va a la izq\r\n",
        "      if nodo.left == None: # si hay espacio lo colaoca ahi\r\n",
        "        nodo.left = NodoArbol(value)# inserta\r\n",
        "      else:\r\n",
        "        self.__insert_nodo__(nodo.left,value) # buscar en sub arbol izq\r\n",
        "    else:\r\n",
        "      if nodo.right == None:\r\n",
        "        nodo.right = TreeNode(value)\r\n",
        "      else:\r\n",
        "        self.__insert_nodo__(nodo.right, value) # buscar en sub arbol ider\r\n"
      ],
      "execution_count": 8,
      "outputs": []
    },
    {
      "cell_type": "code",
      "metadata": {
        "id": "2U9sBO5gclWM"
      },
      "source": [
        "bst = BinarySearchTree()\r\n",
        "bst.insert(50)\r\n",
        "bst.insert(30)\r\n",
        "bst.insert(20)"
      ],
      "execution_count": 9,
      "outputs": []
    }
  ]
}