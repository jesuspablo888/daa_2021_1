{
  "nbformat": 4,
  "nbformat_minor": 0,
  "metadata": {
    "colab": {
      "name": "25_Noviembre.ipynb",
      "provenance": [],
      "authorship_tag": "ABX9TyP2T239tk2PIr6BPkxo/x3x",
      "include_colab_link": true
    },
    "kernelspec": {
      "name": "python3",
      "display_name": "Python 3"
    }
  },
  "cells": [
    {
      "cell_type": "markdown",
      "metadata": {
        "id": "view-in-github",
        "colab_type": "text"
      },
      "source": [
        "<a href=\"https://colab.research.google.com/github/jesuspablo888/daa_2021_1/blob/master/25_Noviembre.ipynb\" target=\"_parent\"><img src=\"https://colab.research.google.com/assets/colab-badge.svg\" alt=\"Open In Colab\"/></a>"
      ]
    },
    {
      "cell_type": "code",
      "metadata": {
        "colab": {
          "base_uri": "https://localhost:8080/"
        },
        "id": "mk7bsNfc5OU0",
        "outputId": "7b1810f6-4976-4faf-de6d-e47bb47ea97e"
      },
      "source": [
        "frase=\"\"\"El lema que anima a la Universidad Nacional, Por mi raza hablará el espíritu, revela la vocación humanística con la que fue concebida. El autor de esta célebre frase, José Vasconcelos, asumió la rectoría en 1920, en una época en que las esperanzas de la Revolución aún estaban vivas,\n",
        " había una gran fé en la Patria y el ánimo redentor se extendía en el ambiente.\"\"\"\n",
        "frase = frase.strip().replace(\"\\n\",\"\").replace(\",\",\"\").replace(\".\",\"\").lower().split(\" \")\n",
        "print(frase)\n",
        "frecuencias={}\n",
        "for index in range(len(frase)):\n",
        "  if frase[index] in frecuencias: #'el' in freciencias:\n",
        "    pass\n",
        "  else:\n",
        "    frecuencias[frase[index]]=1# frecuencias['el']=1 --> {'el':1}\n",
        "    #print(frecuencias)\n",
        "    for pivote in range(index+1,len(frase),1):\n",
        "      #print(frase[index], \"comparada contra:\", frase[pivote])\n",
        "      if frase[index] == frase[pivote]:\n",
        "        frecuencias[frase[index]]+=1\n",
        "print(frecuencias)"
      ],
      "execution_count": 9,
      "outputs": [
        {
          "output_type": "stream",
          "text": [
            "['el', 'lema', 'que', 'anima', 'a', 'la', 'universidad', 'nacional', 'por', 'mi', 'raza', 'hablará', 'el', 'espíritu', 'revela', 'la', 'vocación', 'humanística', 'con', 'la', 'que', 'fue', 'concebida', 'el', 'autor', 'de', 'esta', 'célebre', 'frase', 'josé', 'vasconcelos', 'asumió', 'la', 'rectoría', 'en', '1920', 'en', 'una', 'época', 'en', 'que', 'las', 'esperanzas', 'de', 'la', 'revolución', 'aún', 'estaban', 'vivas', 'había', 'una', 'gran', 'fé', 'en', 'la', 'patria', 'y', 'el', 'ánimo', 'redentor', 'se', 'extendía', 'en', 'el', 'ambiente']\n",
            "{'el': 5, 'lema': 1, 'que': 3, 'anima': 1, 'a': 1, 'la': 6, 'universidad': 1, 'nacional': 1, 'por': 1, 'mi': 1, 'raza': 1, 'hablará': 1, 'espíritu': 1, 'revela': 1, 'vocación': 1, 'humanística': 1, 'con': 1, 'fue': 1, 'concebida': 1, 'autor': 1, 'de': 2, 'esta': 1, 'célebre': 1, 'frase': 1, 'josé': 1, 'vasconcelos': 1, 'asumió': 1, 'rectoría': 1, 'en': 5, '1920': 1, 'una': 2, 'época': 1, 'las': 1, 'esperanzas': 1, 'revolución': 1, 'aún': 1, 'estaban': 1, 'vivas': 1, 'había': 1, 'gran': 1, 'fé': 1, 'patria': 1, 'y': 1, 'ánimo': 1, 'redentor': 1, 'se': 1, 'extendía': 1, 'ambiente': 1}\n"
          ],
          "name": "stdout"
        }
      ]
    },
    {
      "cell_type": "code",
      "metadata": {
        "colab": {
          "base_uri": "https://localhost:8080/"
        },
        "id": "Oc8USRxj_NH6",
        "outputId": "34690563-983e-46c9-cebe-427fce529faa"
      },
      "source": [
        "palabra='hola'\n",
        "print(hash(palabra))\n",
        "palabra='hole'\n",
        "print(hash(palabra))"
      ],
      "execution_count": 13,
      "outputs": [
        {
          "output_type": "stream",
          "text": [
            "1484133713486025495\n",
            "2535915845618327778\n"
          ],
          "name": "stdout"
        }
      ]
    },
    {
      "cell_type": "code",
      "metadata": {
        "colab": {
          "base_uri": "https://localhost:8080/"
        },
        "id": "xaWq-n-vFeuA",
        "outputId": "e95d9dad-944b-41ba-a84e-b650d7fd2fd4"
      },
      "source": [
        "frase=\"\"\"El lema que anima a la Universidad Nacional, Por mi raza hablará el espíritu, revela la vocación humanística con la que fue concebida. El autor de esta célebre frase, José Vasconcelos, asumió la rectoría en 1920, en una época en que las esperanzas de la Revolución aún estaban vivas,\n",
        " había una gran fé en la Patria y el ánimo redentor se extendía en el ambiente.\"\"\"\n",
        "frase = frase.strip().replace(\"\\n\",\"\").replace(\",\",\"\").replace(\".\",\"\").lower().split(\" \")\n",
        "print(frase)\n",
        "frcuencias = {}\n",
        "for index in range(len(frase)):\n",
        "  print(hash(frase[index]))\n",
        "  if frase[index] in frecuencias:\n",
        "    frecuencias[frase[index]] += 1\n",
        "  else:\n",
        "    frecuencias[frase[index]] = 1\n",
        "print(frecuencias)"
      ],
      "execution_count": 15,
      "outputs": [
        {
          "output_type": "stream",
          "text": [
            "['el', 'lema', 'que', 'anima', 'a', 'la', 'universidad', 'nacional', 'por', 'mi', 'raza', 'hablará', 'el', 'espíritu', 'revela', 'la', 'vocación', 'humanística', 'con', 'la', 'que', 'fue', 'concebida', 'el', 'autor', 'de', 'esta', 'célebre', 'frase', 'josé', 'vasconcelos', 'asumió', 'la', 'rectoría', 'en', '1920', 'en', 'una', 'época', 'en', 'que', 'las', 'esperanzas', 'de', 'la', 'revolución', 'aún', 'estaban', 'vivas', 'había', 'una', 'gran', 'fé', 'en', 'la', 'patria', 'y', 'el', 'ánimo', 'redentor', 'se', 'extendía', 'en', 'el', 'ambiente']\n",
            "3308802713142482109\n",
            "-4484401727695907170\n",
            "-1574282840648073203\n",
            "1512555933391420419\n",
            "-461186498921445072\n",
            "-4580805616308688391\n",
            "-6724217912028949609\n",
            "-988625990815712605\n",
            "-8721480845257859561\n",
            "2229500979664550227\n",
            "-5346809793413401407\n",
            "-2149889437824927872\n",
            "3308802713142482109\n",
            "6291865843869972324\n",
            "-8687960875110674433\n",
            "-4580805616308688391\n",
            "-1452516322647471967\n",
            "-4015404536260251142\n",
            "307395426700742271\n",
            "-4580805616308688391\n",
            "-1574282840648073203\n",
            "6975745693059481629\n",
            "-288740369034682128\n",
            "3308802713142482109\n",
            "-4895214359394485111\n",
            "5524642233765181127\n",
            "-5910359773609197685\n",
            "-2015789770935763049\n",
            "-3599343087934141689\n",
            "2449312190053636010\n",
            "-7119192189361739666\n",
            "-2824980564759843051\n",
            "-4580805616308688391\n",
            "-8919163424515977574\n",
            "5732391171347590119\n",
            "9169975905385595121\n",
            "5732391171347590119\n",
            "-8375227228487292739\n",
            "-5379065074358781268\n",
            "5732391171347590119\n",
            "-1574282840648073203\n",
            "8479345978582818570\n",
            "28320029599235407\n",
            "5524642233765181127\n",
            "-4580805616308688391\n",
            "-2128534956043005681\n",
            "-3867385800879097687\n",
            "3048871046709330794\n",
            "-2388102613954152848\n",
            "-5742975460415389415\n",
            "-8375227228487292739\n",
            "-5631851015975291968\n",
            "1056983760240442771\n",
            "5732391171347590119\n",
            "-4580805616308688391\n",
            "8181155856016465121\n",
            "-404390969812895587\n",
            "3308802713142482109\n",
            "8669014461261569443\n",
            "8249931206233655200\n",
            "2963041183984119742\n",
            "1268851512480607742\n",
            "5732391171347590119\n",
            "3308802713142482109\n",
            "-916057913240921073\n",
            "{'el': 15, 'lema': 3, 'que': 9, 'anima': 3, 'a': 3, 'la': 18, 'universidad': 3, 'nacional': 3, 'por': 3, 'mi': 3, 'raza': 3, 'hablará': 3, 'espíritu': 3, 'revela': 3, 'vocación': 3, 'humanística': 3, 'con': 3, 'fue': 3, 'concebida': 3, 'autor': 3, 'de': 6, 'esta': 3, 'célebre': 3, 'frase': 3, 'josé': 3, 'vasconcelos': 3, 'asumió': 3, 'rectoría': 3, 'en': 15, '1920': 3, 'una': 6, 'época': 3, 'las': 3, 'esperanzas': 3, 'revolución': 3, 'aún': 3, 'estaban': 3, 'vivas': 3, 'había': 3, 'gran': 3, 'fé': 3, 'patria': 3, 'y': 3, 'ánimo': 3, 'redentor': 3, 'se': 3, 'extendía': 3, 'ambiente': 3}\n"
          ],
          "name": "stdout"
        }
      ]
    }
  ]
}