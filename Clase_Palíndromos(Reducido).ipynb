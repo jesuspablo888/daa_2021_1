{
  "nbformat": 4,
  "nbformat_minor": 0,
  "metadata": {
    "colab": {
      "name": "Clase Palíndromos(Reducido).ipynb",
      "provenance": [],
      "collapsed_sections": [],
      "authorship_tag": "ABX9TyM1eWArCP07FZTDCejIx3X8",
      "include_colab_link": true
    },
    "kernelspec": {
      "name": "python3",
      "display_name": "Python 3"
    }
  },
  "cells": [
    {
      "cell_type": "markdown",
      "metadata": {
        "id": "view-in-github",
        "colab_type": "text"
      },
      "source": [
        "<a href=\"https://colab.research.google.com/github/jesuspablo888/daa_2021_1/blob/master/Clase_Pal%C3%ADndromos(Reducido).ipynb\" target=\"_parent\"><img src=\"https://colab.research.google.com/assets/colab-badge.svg\" alt=\"Open In Colab\"/></a>"
      ]
    },
    {
      "cell_type": "code",
      "metadata": {
        "id": "KjcQxFh5u45x",
        "outputId": "45dafe34-2437-4667-d523-f83adfe650e4",
        "colab": {
          "base_uri": "https://localhost:8080/",
          "height": 320
        }
      },
      "source": [
        "# solucion \n",
        "xS = ''\n",
        "zS = ''\n",
        "cont=0\n",
        "for x in range(0,24,1):\n",
        "    if (x < 10): xS = '0'+str(x)\n",
        "    else: xS=str(x)\n",
        "    for y in range(0,60,1):\n",
        "        if (y < 10): zS = '0'+str(y)\n",
        "        else: zS=str(y)\n",
        "        s= str(xS+zS)\n",
        "        if (xS+zS == s[::-1]):\n",
        "            cont= cont + 1\n",
        "            print(str(xS)+':'+str(zS))    \n",
        "print(f\"Se encontraron: {cont} palindromos existentes\")"
      ],
      "execution_count": 2,
      "outputs": [
        {
          "output_type": "stream",
          "text": [
            "00:00\n",
            "01:10\n",
            "02:20\n",
            "03:30\n",
            "04:40\n",
            "05:50\n",
            "10:01\n",
            "11:11\n",
            "12:21\n",
            "13:31\n",
            "14:41\n",
            "15:51\n",
            "20:02\n",
            "21:12\n",
            "22:22\n",
            "23:32\n",
            "Se encontraron: 16 palindromos existentes\n"
          ],
          "name": "stdout"
        }
      ]
    }
  ]
}