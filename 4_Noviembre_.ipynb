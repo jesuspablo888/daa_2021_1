{
  "nbformat": 4,
  "nbformat_minor": 0,
  "metadata": {
    "colab": {
      "name": "4_Noviembre .ipynb",
      "provenance": [],
      "collapsed_sections": [],
      "authorship_tag": "ABX9TyO6BvJiBNCyR1vqjpOMBSZb",
      "include_colab_link": true
    },
    "kernelspec": {
      "name": "python3",
      "display_name": "Python 3"
    }
  },
  "cells": [
    {
      "cell_type": "markdown",
      "metadata": {
        "id": "view-in-github",
        "colab_type": "text"
      },
      "source": [
        "<a href=\"https://colab.research.google.com/github/jesuspablo888/daa_2021_1/blob/master/4_Noviembre_.ipynb\" target=\"_parent\"><img src=\"https://colab.research.google.com/assets/colab-badge.svg\" alt=\"Open In Colab\"/></a>"
      ]
    },
    {
      "cell_type": "code",
      "metadata": {
        "id": "YvjeCOvEuvax"
      },
      "source": [
        "contador = 0\n",
        "horas=[]\n",
        "for hor_izq in range (3):\n",
        "    for hor_der in range(10):\n",
        "        if hor_izq ==2 and hor_der >=4 :\n",
        "            continue\n",
        "        for min_izq in range(6):\n",
        "            for min_der in range(10):\n",
        "                if hor_izq == min_der  and   hor_der == min_izq:\n",
        "                    print(f\" {hor_izq}{hor_der}:{min_izq}{min_der}\")\n",
        "                    contador += 1\n",
        "\n",
        "print(f\"Se encontraron {contador} palíndromos\")# 1800 +2"
      ],
      "execution_count": null,
      "outputs": []
    }
  ]
}