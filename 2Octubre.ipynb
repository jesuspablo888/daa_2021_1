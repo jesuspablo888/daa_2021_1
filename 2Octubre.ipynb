{
  "nbformat": 4,
  "nbformat_minor": 0,
  "metadata": {
    "colab": {
      "name": "2Octubre.ipynb",
      "provenance": [],
      "collapsed_sections": [],
      "mount_file_id": "1fQW6NHWiHUTbbHJbcnvvzxEq8gxRREv9",
      "authorship_tag": "ABX9TyPNPljvOcakUAMqrWd9ZSTe",
      "include_colab_link": true
    },
    "kernelspec": {
      "name": "python3",
      "display_name": "Python 3"
    }
  },
  "cells": [
    {
      "cell_type": "markdown",
      "metadata": {
        "id": "view-in-github",
        "colab_type": "text"
      },
      "source": [
        "<a href=\"https://colab.research.google.com/github/jesuspablo888/daa_2021_1/blob/master/2Octubre.ipynb\" target=\"_parent\"><img src=\"https://colab.research.google.com/assets/colab-badge.svg\" alt=\"Open In Colab\"/></a>"
      ]
    },
    {
      "cell_type": "markdown",
      "metadata": {
        "id": "V2WzsjoBiV6S"
      },
      "source": [
        "## Meteorología en México\n",
        "En Sistema meteorológico nacional lleva el registro de la lluvias desde el año 1985 y lo pone a disposición de la población por medio de la pagina datos.gob.mx.\n",
        "\n",
        "En la siguiente liga se encuentran 2  archivos separados por comas CSV correspondientes a los registros de lluvias\n",
        "mensuales y anuales de los años 2017 y 2018. En los columnas se encuentran 13,  correspondientes al promedio mensual y el promedio anual.\n",
        "En los renglones se encuentran 33, correspondientes a cada uno de los 32 estados y a nivel nacional.\n",
        "\n",
        "https://drive.google.com/file/d/1lamkxgq2AsXRu81Y4JTNXLVld4og7nxt/view?usp=sharing\n",
        "\n",
        "\n",
        "## Planteamiento del problema\n",
        "Diseñar un algoritmo y programarlo para que:\n",
        "1. Solicite por teclado el año, el estado y el mes, en base a esa información:\n",
        "- muestre en pantalla el promedio de ese mes en ese estado en el año seleccionado.\n",
        "- muestre en pantalla el promedio anual del  estado seleccionado.\n",
        "- muestre la suma de los 12 meses de ese estado en el año seleccionado.\n",
        "\n",
        "2. Busque el mes que mas llovió en todos los estados durante esos dos años. Imprimir año, estado y mes.\n",
        "3. Busque el mes que menos llovió en los dos. Imprimir año, estado y mes."
      ]
    },
    {
      "cell_type": "code",
      "metadata": {
        "id": "1pS9VtK6lc-V"
      },
      "source": [
        "M=[\"Enero\",\"Febrero\",\"Marzo\",\"Abril\",\"Mayo\",\"Junio\",\"Julio\",\n",
        "     \"Agosto\",\"Septiembre\",\"Octubre\",\"Noviembre\",\"Diciembre\"]\n",
        "Edo=['AGUASCALIENTES','BAJA CALIFORNIA','BAJA CALIFORNIA SUR','CAMPECHE','COAHUILA','COLIMA',\n",
        "        'CHIAPAS','CHIHUAHUA','DISTRITO FEDERAL','DURANGO','GUANAJUATO','GUERRERO','HIDALGO'\n",
        "        ,'JALISCO','ESTADO DE MÉXICO','MICHOACÁN','MORELOS','NAYARIT','NUEVO LEÓN','OAXACA','PUEBLA',\n",
        "        'QUERÉTARO','QUINTANA ROO','SAN LUIS POTOSÍ','SINALOA','SONORA','TABASCO','TAMAULIPAS','TLAXCALA'\n",
        "        ,'VERACRUZ','YUCATÁN','ZACATECAS']\n",
        "esta_lista= []\n",
        "for anio in range(2017,2019):\n",
        "    anio_lista=[]\n",
        "    archivo=open(str(anio)+'Precip.csv','rt')\n",
        "    datos=archivo.read()\n",
        "    lineas=datos.split('\\n')\n",
        "    for estado in range(2,34):\n",
        "        mes_lista=[]\n",
        "        edo=lineas[estado].split(',')\n",
        "        for mes in range(1,14):\n",
        "            mes_lista.append(edo[mes])\n",
        "        anio_lista.append(mes_lista)\n",
        "    esta_lista.append(anio_lista)\n",
        "def Suma(y,e):\n",
        "    s=0.0\n",
        "    for x in range(0,12,1):\n",
        "        s+=float(esta_lista[y-2017][e-1][x])\n",
        "    return s\n",
        "    \n",
        "estado=int(input('Que estado(1-32)?:'))\n",
        "anio=int(input(\"año(2017-2018)?:\"))\n",
        "mes=int(input(\"mes(1-12)?:\"))\n",
        "\n",
        "print(f\"En el estado de {Edo[estado-1]} Llovió un promedio de {esta_lista[anio-2017][estado-1][mes-1]}\"\n",
        "      +f\" centímetros cúbicos en el mes de {M[mes-1]} de {anio}\\n----------------------------------------------------\")\n",
        "\n",
        "print(f\"En el estado de {Edo[estado-1]} Llovió un promedio Anual de {'%.2f'%(float(esta_lista[anio-2017][estado-1][12])/12)}\"\n",
        "      +f\" centímetros cúbicos\\n----------------------------------------------------\")\n",
        "print(f\"La suma de los 12 meses del estado de {Edo[estado-1]} de {anio} es: {'%.2f'%Suma(anio,estado)}\\n----------------------------------------------------\")\n",
        "print(\"+++++++++++++++++++++el mes que mas llovió+++++++++++++++++++++\\n\\n\\n\")\n",
        "for a in range(0,2):\n",
        "    print(f\"++++++++++++++++++++++++++++{a+2017}+++++++++++++++++++++++++++\")\n",
        "    for e in range(0,32):\n",
        "        ML=[]\n",
        "        for m in range(0,12,1):\n",
        "            ML.append(float(esta_lista[a][e][m]))\n",
        "        m=max(ML)\n",
        "        i=ML.index(m)\n",
        "        print(f\"año: {a+2017}\\nEstado: {Edo[e]}\\nMes: {M[i]}\\nPromedio: {m}\\n-------------------------------------------\\n\")\n",
        "\n",
        "print(\"+++++++++++++++++++++el mes que menos llovió+++++++++++++++++++++\\n\\n\\n\")\n",
        "for a in range(0,2):\n",
        "    print(f\"++++++++++++++++++++++++++++{a+2017}+++++++++++++++++++++++++++\")\n",
        "    for e in range(0,32):\n",
        "        ML=[]\n",
        "        for m in range(0,12,1):\n",
        "            ML.append(float(esta_lista[a][e][m]))\n",
        "        m=min(ML)\n",
        "        i=ML.index(m)\n",
        "        print(f\"año: {a+2017}\\nEstado: {Edo[e]}\\nMes: {M[i]}\\nPromedio: {m}\\n-------------------------------------------\\n\")"
      ],
      "execution_count": null,
      "outputs": []
    }
  ]
}