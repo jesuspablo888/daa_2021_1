{
  "nbformat": 4,
  "nbformat_minor": 0,
  "metadata": {
    "colab": {
      "name": "11_enero.ipynb",
      "provenance": [],
      "authorship_tag": "ABX9TyPV7DQ3pPbKI8fwGuc60tII",
      "include_colab_link": true
    },
    "kernelspec": {
      "name": "python3",
      "display_name": "Python 3"
    }
  },
  "cells": [
    {
      "cell_type": "markdown",
      "metadata": {
        "id": "view-in-github",
        "colab_type": "text"
      },
      "source": [
        "<a href=\"https://colab.research.google.com/github/jesuspablo888/daa_2021_1/blob/master/11_enero.ipynb\" target=\"_parent\"><img src=\"https://colab.research.google.com/assets/colab-badge.svg\" alt=\"Open In Colab\"/></a>"
      ]
    },
    {
      "cell_type": "code",
      "metadata": {
        "id": "BE6erHIi5TMJ"
      },
      "source": [
        "class NodoArbol:\r\n",
        "  def __init__(self, value, left=None, rigth=None):\r\n",
        "    self.data = value\r\n",
        "    self.left =left\r\n",
        "    self.rigth = rigth\r\n",
        "  \r\n"
      ],
      "execution_count": 9,
      "outputs": []
    },
    {
      "cell_type": "code",
      "metadata": {
        "id": "cMq6ZS2l8eQB"
      },
      "source": [
        "arbol = NodoArbol(\"R\", NodoArbol(\"C\"), NodoArbol(\"H\"))"
      ],
      "execution_count": 10,
      "outputs": []
    },
    {
      "cell_type": "code",
      "metadata": {
        "id": "hEvuGGrC-E9B"
      },
      "source": [
        "nodo1 = NodoArbol(\"C\")\r\n",
        "nodo2 = NodoArbol(\"H\")\r\n",
        "arbol_v2 = NodoArbol(\"R\", nodo1, nodo2)"
      ],
      "execution_count": 12,
      "outputs": []
    },
    {
      "cell_type": "code",
      "metadata": {
        "colab": {
          "base_uri": "https://localhost:8080/"
        },
        "id": "vr2BGSH_-jgo",
        "outputId": "960e35bb-b4a6-4914-a074-c7a16fc5380a"
      },
      "source": [
        "print(arbol.rigth.data)\r\n",
        "print(arbol_v2.rigth.data)"
      ],
      "execution_count": 13,
      "outputs": [
        {
          "output_type": "stream",
          "text": [
            "H\n",
            "H\n"
          ],
          "name": "stdout"
        }
      ]
    },
    {
      "cell_type": "code",
      "metadata": {
        "colab": {
          "base_uri": "https://localhost:8080/"
        },
        "id": "k6BX42Pu--S_",
        "outputId": "78de1fe9-c944-427f-bf21-08e1ff32c458"
      },
      "source": [
        "arbol2 = NodoArbol(4,NodoArbol(3,NodoArbol(2,NodoArbol(2))),NodoArbol(5))\r\n",
        "print(arbol2.left.left.left.data)\r\n"
      ],
      "execution_count": 14,
      "outputs": [
        {
          "output_type": "stream",
          "text": [
            "2\n"
          ],
          "name": "stdout"
        }
      ]
    },
    {
      "cell_type": "code",
      "metadata": {
        "colab": {
          "base_uri": "https://localhost:8080/"
        },
        "id": "EYupNZLIBQpV",
        "outputId": "4a5588e3-c29c-40a0-9720-4aacb83cde20"
      },
      "source": [
        "aux = arbol2\r\n",
        "while aux.left != None:\r\n",
        "  aux=aux.left\r\n",
        "\r\n",
        "print(aux.data)"
      ],
      "execution_count": 15,
      "outputs": [
        {
          "output_type": "stream",
          "text": [
            "2\n"
          ],
          "name": "stdout"
        }
      ]
    },
    {
      "cell_type": "code",
      "metadata": {
        "colab": {
          "base_uri": "https://localhost:8080/"
        },
        "id": "0G0RlDsVEkCX",
        "outputId": "0feba2b1-3900-46ff-e7ab-ed25de00aedd"
      },
      "source": [
        "arbol3 = NodoArbol(\"Santi\", None,  NodoArbol(\"Jesus\",NodoArbol(\"Pedro\",None,NodoArbol(\"Diana\")),None))\r\n",
        "print(arbol3.rigth.left.rigth.data)"
      ],
      "execution_count": 16,
      "outputs": [
        {
          "output_type": "stream",
          "text": [
            "Diana\n"
          ],
          "name": "stdout"
        }
      ]
    }
  ]
}