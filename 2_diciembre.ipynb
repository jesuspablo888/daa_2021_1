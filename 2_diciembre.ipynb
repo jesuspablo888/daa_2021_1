{
  "nbformat": 4,
  "nbformat_minor": 0,
  "metadata": {
    "colab": {
      "name": "2_diciembre.ipynb",
      "provenance": [],
      "authorship_tag": "ABX9TyOSJXT3EAPhqyuF0NaiBIKn",
      "include_colab_link": true
    },
    "kernelspec": {
      "name": "python3",
      "display_name": "Python 3"
    }
  },
  "cells": [
    {
      "cell_type": "markdown",
      "metadata": {
        "id": "view-in-github",
        "colab_type": "text"
      },
      "source": [
        "<a href=\"https://colab.research.google.com/github/jesuspablo888/daa_2021_1/blob/master/2_diciembre.ipynb\" target=\"_parent\"><img src=\"https://colab.research.google.com/assets/colab-badge.svg\" alt=\"Open In Colab\"/></a>"
      ]
    },
    {
      "cell_type": "code",
      "metadata": {
        "id": "vb6d9WAJAQ37"
      },
      "source": [
        "def fnRecInfinita():\n",
        "  print(\"hola\")\n",
        "  fnRecInfinita()"
      ],
      "execution_count": null,
      "outputs": []
    },
    {
      "cell_type": "code",
      "metadata": {
        "id": "heK_HICdAbZc"
      },
      "source": [
        "fnRecInfinita()"
      ],
      "execution_count": null,
      "outputs": []
    },
    {
      "cell_type": "code",
      "metadata": {
        "colab": {
          "base_uri": "https://localhost:8080/"
        },
        "id": "G3Kv457H8unm",
        "outputId": "3d6fb7b9-ae5e-4ff2-9d03-84921a6f076c"
      },
      "source": [
        "def fnRec( x):\n",
        "  if x==0:\n",
        "    print(\"Stop\")\n",
        "  else:\n",
        "    fnRec(x-1)\n",
        "    print(x)\n",
        "\n",
        "def main():\n",
        "  print(\"inicio de programa\")\n",
        "  fnRec(5)\n",
        "  print(\"fin del programa\")\n",
        "main()\n"
      ],
      "execution_count": 9,
      "outputs": [
        {
          "output_type": "stream",
          "text": [
            "inicio de programa\n",
            "Stop\n",
            "1\n",
            "2\n",
            "3\n",
            "4\n",
            "5\n",
            "fin del programa\n"
          ],
          "name": "stdout"
        }
      ]
    },
    {
      "cell_type": "code",
      "metadata": {
        "colab": {
          "base_uri": "https://localhost:8080/"
        },
        "id": "Wo0Nhw6SAQZ3",
        "outputId": "11bcc3e1-2018-4971-bf9c-88e6184f0db6"
      },
      "source": [
        "def printRev(x):\n",
        "  if x > 0:\n",
        "    print(x)\n",
        "    printRev(x-1)\n",
        "printRev(3)"
      ],
      "execution_count": 10,
      "outputs": [
        {
          "output_type": "stream",
          "text": [
            "3\n",
            "2\n",
            "1\n"
          ],
          "name": "stdout"
        }
      ]
    },
    {
      "cell_type": "code",
      "metadata": {
        "colab": {
          "base_uri": "https://localhost:8080/"
        },
        "id": "X7YXqw5AEeik",
        "outputId": "b189ad70-66fa-41eb-a082-ef7ed83234ef"
      },
      "source": [
        "def printRev(x):\n",
        "  if x > 0:\n",
        "    printRev(x-1)\n",
        "    print(x)\n",
        "printRev(3)"
      ],
      "execution_count": 11,
      "outputs": [
        {
          "output_type": "stream",
          "text": [
            "1\n",
            "2\n",
            "3\n"
          ],
          "name": "stdout"
        }
      ]
    },
    {
      "cell_type": "code",
      "metadata": {
        "colab": {
          "base_uri": "https://localhost:8080/"
        },
        "id": "7cSfi9kfIrNq",
        "outputId": "db0fbd47-d12b-4439-a3c2-6577f4e8f43c"
      },
      "source": [
        "def fibonacci(n):\n",
        "  if n == 1 or n == 0:\n",
        "    return n\n",
        "  else:\n",
        "    return (fibonacci(n-1)+fibonacci(n-2))\n",
        "print(fibonacci(8))"
      ],
      "execution_count": 14,
      "outputs": [
        {
          "output_type": "stream",
          "text": [
            "21\n"
          ],
          "name": "stdout"
        }
      ]
    },
    {
      "cell_type": "code",
      "metadata": {
        "id": "khzu7KvPKHUN"
      },
      "source": [
        "num = [1,4,5,6,7,3,8,32,2]\n"
      ],
      "execution_count": null,
      "outputs": []
    }
  ]
}