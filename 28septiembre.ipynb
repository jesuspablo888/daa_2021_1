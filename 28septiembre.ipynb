{
  "nbformat": 4,
  "nbformat_minor": 0,
  "metadata": {
    "colab": {
      "name": "28septiembre.ipynb",
      "provenance": [],
      "authorship_tag": "ABX9TyPwceZmofcrLVAqbxwJQRdK",
      "include_colab_link": true
    },
    "kernelspec": {
      "name": "python3",
      "display_name": "Python 3"
    }
  },
  "cells": [
    {
      "cell_type": "markdown",
      "metadata": {
        "id": "view-in-github",
        "colab_type": "text"
      },
      "source": [
        "<a href=\"https://colab.research.google.com/github/jesuspablo888/daa_2021_1/blob/master/28septiembre.ipynb\" target=\"_parent\"><img src=\"https://colab.research.google.com/assets/colab-badge.svg\" alt=\"Open In Colab\"/></a>"
      ]
    },
    {
      "cell_type": "code",
      "metadata": {
        "id": "OHvQYO24CiPq"
      },
      "source": [
        ""
      ],
      "execution_count": null,
      "outputs": []
    },
    {
      "cell_type": "markdown",
      "metadata": {
        "id": "5eqpS8HYCtQU"
      },
      "source": [
        "# Seccion 1"
      ]
    },
    {
      "cell_type": "markdown",
      "metadata": {
        "id": "BTtDGpGXDGZI"
      },
      "source": [
        "En este archivo aprenderemos a programar en Python con la herramienta de Google Colab Research.\n",
        "\n",
        "También aprenderemos a guardar nuestros cambios a nuestro repositorio de github.com"
      ]
    },
    {
      "cell_type": "markdown",
      "metadata": {
        "id": "tFUAwmRCDvlM"
      },
      "source": [
        "## Codigo de ejemplo\n",
        "**negritas** \n",
        "_italica_\n",
        "`edad = 10\n",
        "print(edad)`"
      ]
    },
    {
      "cell_type": "code",
      "metadata": {
        "id": "0whn-ipdGe49",
        "outputId": "7a94f8cd-134d-4658-ccca-29ab17defc6c",
        "colab": {
          "base_uri": "https://localhost:8080/",
          "height": 35
        }
      },
      "source": [
        "frutas = []\n",
        "frutas.append('Manzaana')\n",
        "frutas.append('Piña')\n",
        "frutas.append('kiwi')\n",
        "print(frutas)"
      ],
      "execution_count": 2,
      "outputs": [
        {
          "output_type": "stream",
          "text": [
            "['Manzaana', 'Piña', 'kiwi']\n"
          ],
          "name": "stdout"
        }
      ]
    },
    {
      "cell_type": "code",
      "metadata": {
        "id": "xANC1bKIHqd3"
      },
      "source": [
        "archivo = open('prueba_daa.txt', 'wt')\n",
        "archivo.write(\"hola jupyter\")\n",
        "archivo.close()"
      ],
      "execution_count": 4,
      "outputs": []
    }
  ]
}