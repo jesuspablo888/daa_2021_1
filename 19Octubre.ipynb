{
  "nbformat": 4,
  "nbformat_minor": 0,
  "metadata": {
    "colab": {
      "name": "19Octubre.ipynb",
      "provenance": [],
      "authorship_tag": "ABX9TyM7q3C83P5kSrSabsNLFEOc",
      "include_colab_link": true
    },
    "kernelspec": {
      "name": "python3",
      "display_name": "Python 3"
    }
  },
  "cells": [
    {
      "cell_type": "markdown",
      "metadata": {
        "id": "view-in-github",
        "colab_type": "text"
      },
      "source": [
        "<a href=\"https://colab.research.google.com/github/jesuspablo888/daa_2021_1/blob/master/19Octubre.ipynb\" target=\"_parent\"><img src=\"https://colab.research.google.com/assets/colab-badge.svg\" alt=\"Open In Colab\"/></a>"
      ]
    },
    {
      "cell_type": "code",
      "metadata": {
        "id": "qQTq1xXoEbn4",
        "outputId": "f4fea443-ae3c-4400-b9ac-d16eaf56fccb",
        "colab": {
          "base_uri": "https://localhost:8080/",
          "height": 269
        }
      },
      "source": [
        "a2d= [[3,2,1],[6,4,8],[7,4,2]]\n",
        "n= 3\n",
        "print(a2d)\n",
        "total=0  #1\n",
        "print(\"nivel 1\")\n",
        "for ren in range (n):\n",
        "  sumaRenglon =0\n",
        "  print(\"nivel 2\")\n",
        "  for col in range(n):\n",
        "    sumaRenglon +=a2d[ren][col]\n",
        "    total += a2d[ren][col]\n",
        "    print(\"nivel 3\")\n",
        "print(total)"
      ],
      "execution_count": 2,
      "outputs": [
        {
          "output_type": "stream",
          "text": [
            "[[3, 2, 1], [6, 4, 8], [7, 4, 2]]\n",
            "nivel 1\n",
            "nivel 2\n",
            "nivel 3\n",
            "nivel 3\n",
            "nivel 3\n",
            "nivel 2\n",
            "nivel 3\n",
            "nivel 3\n",
            "nivel 3\n",
            "nivel 2\n",
            "nivel 3\n",
            "nivel 3\n",
            "nivel 3\n",
            "37\n"
          ],
          "name": "stdout"
        }
      ]
    }
  ]
}