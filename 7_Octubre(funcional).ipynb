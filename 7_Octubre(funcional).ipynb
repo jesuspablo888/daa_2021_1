{
  "nbformat": 4,
  "nbformat_minor": 0,
  "metadata": {
    "colab": {
      "name": "7 Octubre.ipynb",
      "provenance": [],
      "collapsed_sections": [],
      "authorship_tag": "ABX9TyO2aWwlN7m49TXYJzmX06uT",
      "include_colab_link": true
    },
    "kernelspec": {
      "name": "python3",
      "display_name": "Python 3"
    }
  },
  "cells": [
    {
      "cell_type": "markdown",
      "metadata": {
        "id": "view-in-github",
        "colab_type": "text"
      },
      "source": [
        "<a href=\"https://colab.research.google.com/github/jesuspablo888/daa_2021_1/blob/master/7_Octubre(funcional).ipynb\" target=\"_parent\"><img src=\"https://colab.research.google.com/assets/colab-badge.svg\" alt=\"Open In Colab\"/></a>"
      ]
    },
    {
      "cell_type": "code",
      "metadata": {
        "id": "-k7PNbF8Pvyi",
        "outputId": "092944c5-e8ca-44e8-d1b2-1bd670859761",
        "colab": {
          "base_uri": "https://localhost:8080/"
        }
      },
      "source": [
        "print(4//2)"
      ],
      "execution_count": null,
      "outputs": [
        {
          "output_type": "stream",
          "text": [
            "2\n"
          ],
          "name": "stdout"
        }
      ]
    },
    {
      "cell_type": "markdown",
      "metadata": {
        "id": "-pgAY8ZlSeUQ"
      },
      "source": [
        "# Busuqeda lienal \n",
        "dada un conjunto de datos ordenados la buswueda linenal conciste en recorrerr el conjuntos de datos desde el inicio sl final, miviendose en uno en uno ghasta encontrata el eleemento o llegar al final del conjunto.\n",
        "\n",
        "datos = [ 4,18,47,2,34,14,78,12,48,21,31,19,1,3,5]\n",
        "\n",
        "# Busqueda binaria.\n",
        "funciona sobre un conjubto de datos lineal ordenado.\n",
        "consiste en dividir el conjunto en mitades y buscar en esa mitad, preguntas ai el elemento esta a la derecha o a la izquierda.\n",
        "Haces la lista igual a la mitad \n",
        "correspondiente y repites el proceso.\n",
        "\n",
        "L=  [1, 2, 3, 4, 5, 12, 14, 18, 19, 21, 31, 34, 47, 48, 78]\n",
        "\n",
        "DER = longitud (L)-1\n",
        "\n",
        "IZQ=0\n",
        "\n",
        "MID apuntara a la mitad del segmento de busqueda \n",
        "\n",
        "busacdo es el valor a buscar (47)\n",
        "\n",
        "1. Hacer DER = longitud (L)-1\n",
        "2. Hacer IZQ=0\n",
        "3. Si IZQ > DER significa que hay un error en los datos\n",
        "4. Calcular MID = int( (IZQ + DER)/2 )\n",
        "5. mientras L[MID] != buscado hacer\n",
        "6.    - preguntar L[MID] > buscado\n",
        "          - hacer DER = mid\n",
        "      - de lo contrario\n",
        "          - Hacer IZQ = MID\n",
        "      - preguntar (DER - IZQ) %2\n",
        "          - MID = (IZQ + ((DER-IZQ)/2))+1\n",
        "      - de lo contrario\n",
        "          - MID - IZQ + ((DER-IZQ) / 2)\n",
        "7. return MID\n",
        "              "
      ]
    },
    {
      "cell_type": "code",
      "metadata": {
        "id": "RpScCHG7ToIE",
        "outputId": "8f4ed7eb-06b6-40f9-9c52-22b47008d580",
        "colab": {
          "base_uri": "https://localhost:8080/"
        }
      },
      "source": [
        "'''\n",
        "Busqueda lineal \n",
        "regresa la posicion  del elemento buscado si se encuentra dentro de la lista.\n",
        "regresa -1 si el elemento buscado no existe \n",
        "'''\n",
        "def busq_lienal(L, buscado):\n",
        "  indice=-1\n",
        "  cont=0\n",
        "  for idx in range(len(L)):\n",
        "    cont+=1\n",
        "    if L[idx] == buscado:\n",
        "      indice = idx\n",
        "      break\n",
        "  print(f\"numero de comparaciones realizadas ={cont}\")\n",
        "  return indice\n",
        "\n",
        "'''\n",
        "Buesqueda binaria\n",
        "'''\n",
        "def busq_binaria(L, buscado):\n",
        "  izq =0\n",
        "  der= len(L)-1\n",
        "  #mid=int((izq+der)/2)\n",
        "  if len(L) %2 == 0:\n",
        "    mid = (der//2)+1\n",
        "  else:\n",
        "    mid = der//2\n",
        "  while L[mid] != buscado:\n",
        "    if L[mid] > buscado:\n",
        "      der = mid\n",
        "    else: izq = mid\n",
        "    '''\n",
        "    if (der-izq)%2 ==0:\n",
        "      mid=(izq+((der-izq)//2))+1\n",
        "    else: mid = izq + ((der-izq)//2)\n",
        "    '''\n",
        "    mid = izq + ( (der-izq)//2 )\n",
        "    if buscado == L[mid+1]:\n",
        "      mid +=1\n",
        "     \n",
        "  return mid\n",
        "\n",
        "def main():\n",
        "  datos = [ 4,18,47,2,34,14,78,12,48,21,31,19,1,3,5]\n",
        "  dato= int(input(\"Que valor quieres buscar: \"))\n",
        "  resultado = busq_lienal(datos, dato)\n",
        "  print(\"resultado\",resultado)\n",
        "  print(\"busqueda lienal en una lista ordenada\")\n",
        "  datos.sort()\n",
        "  print(datos)\n",
        "  resultado = busq_lienal(datos, dato)\n",
        "  print(\"resultado\",resultado)\n",
        "\n",
        "  print(\"busqueda binaria\")\n",
        "  posicion = busq_binaria(datos, dato)\n",
        "  print(f\"El elemento {dato} esta en la posicion {posicion} de la lista\")\n",
        "main()"
      ],
      "execution_count": 1,
      "outputs": [
        {
          "output_type": "stream",
          "text": [
            "Que valor quieres buscar: 47\n",
            "numero de comparaciones realizadas =3\n",
            "resultado 2\n",
            "busqueda lienal en una lista ordenada\n",
            "[1, 2, 3, 4, 5, 12, 14, 18, 19, 21, 31, 34, 47, 48, 78]\n",
            "numero de comparaciones realizadas =13\n",
            "resultado 12\n",
            "busqueda binaria\n",
            "El elemento 47 esta en la posicion 12 de la lista\n"
          ],
          "name": "stdout"
        }
      ]
    },
    {
      "cell_type": "markdown",
      "metadata": {
        "id": "ofWiaozjlFtW"
      },
      "source": [
        ""
      ]
    }
  ]
}