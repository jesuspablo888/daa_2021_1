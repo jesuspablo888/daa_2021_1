{
  "nbformat": 4,
  "nbformat_minor": 0,
  "metadata": {
    "colab": {
      "name": "Tarea 8.  Búsqueda binaria recursiva.ipynb",
      "provenance": [],
      "collapsed_sections": [],
      "authorship_tag": "ABX9TyNS4uEvaemAipcNM0f8/+uH",
      "include_colab_link": true
    },
    "kernelspec": {
      "name": "python3",
      "display_name": "Python 3"
    }
  },
  "cells": [
    {
      "cell_type": "markdown",
      "metadata": {
        "id": "view-in-github",
        "colab_type": "text"
      },
      "source": [
        "<a href=\"https://colab.research.google.com/github/jesuspablo888/daa_2021_1/blob/master/Tarea_8_B%C3%BAsqueda_binaria_recursiva.ipynb\" target=\"_parent\"><img src=\"https://colab.research.google.com/assets/colab-badge.svg\" alt=\"Open In Colab\"/></a>"
      ]
    },
    {
      "cell_type": "markdown",
      "metadata": {
        "id": "uEwTj4yqdtMA"
      },
      "source": [
        "# **Planteamiento del problema:**\n",
        "\n",
        "El siguiente código se puede considerar la simulación de una pequeña base de datos de alumnos, se encuentra implementado con diccionarios dentro de una lista python.\n",
        "\n",
        "\n",
        "Se puede observar que los alumnos estan ordenados por la llave 'id'.\n",
        "\n",
        "El objetivo de la tarea es realizar busquedas empleando el algoritmo de **Búsqueda binaria recursiva.**\n",
        "\n",
        "El programa debe solicitar el id a buscar. Posteriormente debe buscar(en la lista bd) el alumno en la base de datos y de existir, mostrará la información completa del alumno como en el siguiente,\n",
        "### **ejemplo 1:**\n",
        "\n",
        "\n",
        "¿Dame el id del alumno a buscar?: 16\n",
        "\n",
        "Resultado:\n",
        "Diana estudia la carrera DER y tiene un promedio de 9.9\n",
        "\n",
        "\n",
        "### **ejemplo 2:**\n",
        "¿Dame el id del alumno a buscar?: 15\n",
        "\n",
        "Resultado:\n",
        "El alumno no existe en la base de datos.\n"
      ]
    },
    {
      "cell_type": "code",
      "metadata": {
        "colab": {
          "base_uri": "https://localhost:8080/"
        },
        "id": "nR1D67h4jwMf",
        "outputId": "94cd7ef6-fb52-454b-a0c1-fc26ff3d8e72"
      },
      "source": [
        "alumno1={'id':2, 'nombre':\"Juan\" , 'carrera':\"ICO\", 'promedio':7.67}\n",
        "alumno2={'id':4, 'nombre':\"Rocio\" , 'carrera':\"ICI\", 'promedio':8.67}\n",
        "alumno3={'id':5, 'nombre':\"Diego\" , 'carrera':\"DER\", 'promedio':8.98}\n",
        "alumno4={'id':7, 'nombre':\"May\" , 'carrera':\"ICI\", 'promedio':9.87}\n",
        "alumno5={'id':9, 'nombre':\"Rob\" , 'carrera':\"IME\", 'promedio':10.00}\n",
        "alumno6={'id':10, 'nombre':\"Santi\" , 'carrera':\"ICO\", 'promedio':5.37}\n",
        "alumno7={'id':14, 'nombre':\"Moy\" , 'carrera':\"IME\", 'promedio':6.85}\n",
        "alumno8={'id':16, 'nombre':\"Diana\" , 'carrera':\"DER\", 'promedio':9.99}\n",
        "alumno9={'id':19, 'nombre':\"Zoila\" , 'carrera':\"ICO\", 'promedio':8.22}\n",
        "alumno10={'id':22, 'nombre':\"Armando\" , 'carrera':\"ICO\", 'promedio':7.32}\n",
        "\n",
        "bd = []\n",
        "bd.append(alumno1)\n",
        "bd.append(alumno2)\n",
        "bd.append(alumno3)\n",
        "bd.append(alumno4)\n",
        "bd.append(alumno5)\n",
        "bd.append(alumno6)\n",
        "bd.append(alumno7)\n",
        "bd.append(alumno8)\n",
        "bd.append(alumno9)\n",
        "bd.append(alumno10)\n",
        "\n",
        "print(bd)\n",
        "\n",
        "def busqueda_recursiva( a , valor, izq , der):\n",
        "  x = (izq + der) //2\n",
        "  if izq >= der:\n",
        "      return -4\n",
        "  if a[x]['id'] == valor: \n",
        "      return x\n",
        "  elif a[x]['id'] < valor:\n",
        "      return busqueda_recursiva(a,valor,x+1,der)\n",
        "  else:\n",
        "      return busqueda_recursiva(a,valor,izq,x-1)\n",
        "\n",
        "try:\n",
        "  x = int(input('¿Dame el id del alumno a buscar?: '))\n",
        "  l = busqueda_recursiva(bd,x,0,len(bd)-1) \n",
        "  if l == -4:\n",
        "    print(\"El alumno no existe en la base de datos.\")\n",
        "  else:\n",
        "    print(f\"{bd[l]['nombre']} estudia la carrera {bd[l]['carrera']} y tiene un promedio de {bd[l]['promedio']}\")\n",
        "\n",
        "except:print(\"Solo pude ingresar valores numericos enteros\")"
      ],
      "execution_count": 34,
      "outputs": [
        {
          "output_type": "stream",
          "text": [
            "[{'id': 2, 'nombre': 'Juan', 'carrera': 'ICO', 'promedio': 7.67}, {'id': 4, 'nombre': 'Rocio', 'carrera': 'ICI', 'promedio': 8.67}, {'id': 5, 'nombre': 'Diego', 'carrera': 'DER', 'promedio': 8.98}, {'id': 7, 'nombre': 'May', 'carrera': 'ICI', 'promedio': 9.87}, {'id': 9, 'nombre': 'Rob', 'carrera': 'IME', 'promedio': 10.0}, {'id': 10, 'nombre': 'Santi', 'carrera': 'ICO', 'promedio': 5.37}, {'id': 14, 'nombre': 'Moy', 'carrera': 'IME', 'promedio': 6.85}, {'id': 16, 'nombre': 'Diana', 'carrera': 'DER', 'promedio': 9.99}, {'id': 19, 'nombre': 'Zoila', 'carrera': 'ICO', 'promedio': 8.22}, {'id': 22, 'nombre': 'Armando', 'carrera': 'ICO', 'promedio': 7.32}]\n",
            "¿Dame el id del alumno a buscar?: 16\n",
            "Diana estudia la carrera DER y tiene un promedio de 9.99\n"
          ],
          "name": "stdout"
        }
      ]
    }
  ]
}