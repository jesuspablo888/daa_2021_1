{
  "nbformat": 4,
  "nbformat_minor": 0,
  "metadata": {
    "colab": {
      "name": "Tarea 7. Recursividad.ipynb",
      "provenance": [],
      "authorship_tag": "ABX9TyOTyyStWdOP1SpFMJUMCaYk",
      "include_colab_link": true
    },
    "kernelspec": {
      "name": "python3",
      "display_name": "Python 3"
    }
  },
  "cells": [
    {
      "cell_type": "markdown",
      "metadata": {
        "id": "view-in-github",
        "colab_type": "text"
      },
      "source": [
        "<a href=\"https://colab.research.google.com/github/jesuspablo888/daa_2021_1/blob/master/Tarea_7_Recursividad.ipynb\" target=\"_parent\"><img src=\"https://colab.research.google.com/assets/colab-badge.svg\" alt=\"Open In Colab\"/></a>"
      ]
    },
    {
      "cell_type": "code",
      "metadata": {
        "id": "LUF8d7yTKLQz"
      },
      "source": [
        "class Pila:\n",
        "  def __init__(self):\n",
        "    self.__data = []\n",
        "\n",
        "  def is_empty(self):\n",
        "    return len(self.__data)==0\n",
        "\n",
        "  def get_top(self):\n",
        "    return self.__data[len(self.__data)-1] \n",
        "\n",
        "  def pop(self):\n",
        "    return self.__data.pop()\n",
        "\n",
        "  def push (self, value):\n",
        "    self.__data.append(value)\n",
        "\n",
        "  def lenght(self):\n",
        "    return len(self.__data)\n",
        "\n",
        "  def to_string(self):   \n",
        "    for i in self.__data[::-1]:\n",
        "      print(i)"
      ],
      "execution_count": 16,
      "outputs": []
    },
    {
      "cell_type": "code",
      "metadata": {
        "colab": {
          "base_uri": "https://localhost:8080/"
        },
        "id": "4Rxi_aS9bilb",
        "outputId": "5efba31b-41a0-427a-dc8e-ab5a0cac04be"
      },
      "source": [
        "# 1. Crear una lista de enteros en Python y \n",
        "# realizar la suma con recursividad, el caso base es cuando la lista este vacía.\n",
        "def nose(l):\n",
        "  if len(l) == 0:\n",
        "    return 0\n",
        "  else:\n",
        "    n = l.pop()\n",
        "    n1 = nose(l)\n",
        "    n += n1\n",
        "    return n\n",
        "\n",
        "lisInt=[1,1,1,1,1]\n",
        "print(lisInt)\n",
        "print(f\"LA SUMA ES:\",nose(lisInt))"
      ],
      "execution_count": null,
      "outputs": [
        {
          "output_type": "stream",
          "text": [
            "[1, 1, 1, 1, 1]\n",
            "LA SUMA ES: 5\n"
          ],
          "name": "stdout"
        }
      ]
    },
    {
      "cell_type": "code",
      "metadata": {
        "colab": {
          "base_uri": "https://localhost:8080/"
        },
        "id": "SbejZURqeGVN",
        "outputId": "9f21e395-9b0d-4c55-f6c2-c3fcfe4ab351"
      },
      "source": [
        "# 2. Hacer un contador regresivo con recursión.\n",
        "def contador(x):\n",
        "  if x >= 0:\n",
        "    print(x)\n",
        "    contador(x-1)\n",
        "contador(10)"
      ],
      "execution_count": null,
      "outputs": [
        {
          "output_type": "stream",
          "text": [
            "10\n",
            "9\n",
            "8\n",
            "7\n",
            "6\n",
            "5\n",
            "4\n",
            "3\n",
            "2\n",
            "1\n",
            "0\n"
          ],
          "name": "stdout"
        }
      ]
    },
    {
      "cell_type": "code",
      "metadata": {
        "id": "Syw7YbhZkjjU",
        "colab": {
          "base_uri": "https://localhost:8080/"
        },
        "outputId": "e3ba2710-60d9-4142-e7c4-d3d3b659e79f"
      },
      "source": [
        "# 3. Sacar de un ADT pila el valor en la posición media.\n",
        "def posicion_media(p,t):\n",
        "  if t//2 == p.lenght()-1:\n",
        "    return print(f\"Valor Medio:\",p.pop())\n",
        "  else:\n",
        "    n=p.pop()\n",
        "    posicion_media(p,t)\n",
        "    p.push(n)\n",
        "\n",
        "p = Pila()\n",
        "p.push(5)\n",
        "p.push(6)\n",
        "p.push(10)\n",
        "p.push(1) #  <---  valor medio\n",
        "p.push(2)\n",
        "p.push(14)\n",
        "p.push(12)\n",
        "p.to_string()\n",
        "print(\"-----\")\n",
        "posicion_media(p,p.lenght())\n",
        "print(\"-----\")\n",
        "p.to_string()"
      ],
      "execution_count": 38,
      "outputs": [
        {
          "output_type": "stream",
          "text": [
            "12\n",
            "14\n",
            "2\n",
            "1\n",
            "10\n",
            "6\n",
            "5\n",
            "-----\n",
            "Valor Medio: 1\n",
            "-----\n",
            "12\n",
            "14\n",
            "2\n",
            "10\n",
            "6\n",
            "5\n"
          ],
          "name": "stdout"
        }
      ]
    }
  ]
}