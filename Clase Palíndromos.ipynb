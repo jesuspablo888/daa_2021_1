{
  "nbformat": 4,
  "nbformat_minor": 0,
  "metadata": {
    "colab": {
      "name": "Untitled0.ipynb",
      "provenance": [],
      "authorship_tag": "ABX9TyMW8KAr3gds7rKFAYKez12g",
      "include_colab_link": true
    },
    "kernelspec": {
      "name": "python3",
      "display_name": "Python 3"
    }
  },
  "cells": [
    {
      "cell_type": "markdown",
      "metadata": {
        "id": "view-in-github",
        "colab_type": "text"
      },
      "source": [
        "<a href=\"https://colab.research.google.com/github/jesuspablo888/daa_2021_1/blob/master/Clase%20Pal%C3%ADndromos.ipynb\" target=\"_parent\"><img src=\"https://colab.research.google.com/assets/colab-badge.svg\" alt=\"Open In Colab\"/></a>"
      ]
    },
    {
      "cell_type": "markdown",
      "metadata": {
        "id": "tVex8itfQNOf"
      },
      "source": [
        "# Palíndromo\n",
        "Es una ppalabra que se lee de igual forma de un sentido y de sentido inverso, ejemplo:\n",
        "1. sugus\n",
        "1. oso\n",
        "1. reconocer\n",
        "1. 10101\n",
        "2. 10:01 etc.\n",
        "\n",
        "### Plantemiento del problema \n",
        "\n",
        "se desea encontra todos los palindromos que existen en la franja horaria de un dia completo, tomando como horario inicial las 00:00 y como  horario final la 23:59 horas.\n",
        "\n",
        "El algoritmo debe mostrar en la pantalla todos los palindromos existentes en ese rango. al final debe mostrar el conteo de total de palindromos existentes.\n"
      ]
    },
    {
      "cell_type": "code",
      "metadata": {
        "id": "4BG5FXYUR5MS",
        "outputId": "72a7c15f-0640-4491-b997-351346eb9505",
        "colab": {
          "base_uri": "https://localhost:8080/",
          "height": 320
        }
      },
      "source": [
        "# solucion \n",
        "palindromos = []\n",
        "xS = []\n",
        "zS = []\n",
        "cont=0\n",
        "for x in range(0,24,1):\n",
        "    if (x < 10):\n",
        "        xS.append('0'+str(x))\n",
        "    else:\n",
        "        xS.append(str(x))\n",
        "    for y in range(0,60,1):\n",
        "        if (y < 10):\n",
        "            zS.append('0'+str(y))\n",
        "        else:\n",
        "            zS.append(str(y))\n",
        "        s= str(xS[x]+zS[y])\n",
        "        if (xS[x]+zS[y] == s[::-1]):\n",
        "                cont= cont + 1\n",
        "                palindromos.append(str(xS[x])+':'+str(zS[y]))\n",
        "                print(str(xS[x])+':'+str(zS[y]))    \n",
        "print(f\"Se encontraron: {cont} palindromos existentes\")"
      ],
      "execution_count": 15,
      "outputs": [
        {
          "output_type": "stream",
          "text": [
            "00:00\n",
            "01:10\n",
            "02:20\n",
            "03:30\n",
            "04:40\n",
            "05:50\n",
            "10:01\n",
            "11:11\n",
            "12:21\n",
            "13:31\n",
            "14:41\n",
            "15:51\n",
            "20:02\n",
            "21:12\n",
            "22:22\n",
            "23:32\n",
            "Se encontraron: 16 palindromos existentes\n"
          ],
          "name": "stdout"
        }
      ]
    }
  ]
}