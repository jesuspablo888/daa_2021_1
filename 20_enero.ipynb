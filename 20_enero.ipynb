{
  "nbformat": 4,
  "nbformat_minor": 0,
  "metadata": {
    "colab": {
      "name": "13_enero.ipynb",
      "provenance": [],
      "collapsed_sections": [],
      "authorship_tag": "ABX9TyNpqfyKjfqvRj6a9EoeFLQG",
      "include_colab_link": true
    },
    "kernelspec": {
      "name": "python3",
      "display_name": "Python 3"
    }
  },
  "cells": [
    {
      "cell_type": "markdown",
      "metadata": {
        "id": "view-in-github",
        "colab_type": "text"
      },
      "source": [
        "<a href=\"https://colab.research.google.com/github/jesuspablo888/daa_2021_1/blob/master/20_enero.ipynb\" target=\"_parent\"><img src=\"https://colab.research.google.com/assets/colab-badge.svg\" alt=\"Open In Colab\"/></a>"
      ]
    },
    {
      "cell_type": "code",
      "metadata": {
        "id": "PntaktO6L4FY"
      },
      "source": [
        "class NodoArbol:\r\n",
        "  def __init__(self, value, left=None, rigth=None):\r\n",
        "    self.data = value\r\n",
        "    self.left =left\r\n",
        "    self.rigth = rigth"
      ],
      "execution_count": 1,
      "outputs": []
    },
    {
      "cell_type": "markdown",
      "metadata": {
        "id": "LPk1iW1aMSsl"
      },
      "source": [
        "# Árbol bninario de busqueda\r\n",
        "Los nodos a la izquierda son menores a la raiz y los nodos a la derecha son mayores a la raiz.\r\n",
        "Pueden ser recorridos en: pre.orden, in-orden y post-orden."
      ]
    },
    {
      "cell_type": "code",
      "metadata": {
        "id": "SMUJI7pxMLGN"
      },
      "source": [
        "class BinarySearchTree:\r\n",
        "  def __init__(self):\r\n",
        "    self.__root = None\r\n",
        "  \r\n",
        "  def insert(self, value):\r\n",
        "    if self.__root == None:\r\n",
        "      self.__root = NodoArbol(value,None,None)\r\n",
        "    else:\r\n",
        "      # preguntar si value es menor que root de ser el caso \r\n",
        "      #insertar ala isquierda PERO.. puede ser le caos que el\r\n",
        "      # sub arbol tenga muchos elementos\r\n",
        "      self.__insert_nodo__(self.__root, value)\r\n",
        "  \r\n",
        "  def __insert_nodo__(self, nodo, value):\r\n",
        "    if nodo.data == value:\r\n",
        "      pass # no se admiten valores repetidos\r\n",
        "    elif value < nodo.data:# si es true va a la izq\r\n",
        "      if nodo.left == None: # si hay espacio lo colaoca ahi\r\n",
        "        nodo.left = NodoArbol(value)# inserta\r\n",
        "      else:\r\n",
        "        self.__insert_nodo__(nodo.left,value) # buscar en sub arbol izq\r\n",
        "    else: #ir a la derecha\r\n",
        "      if nodo.rigth == None:\r\n",
        "        nodo.rigth = TreeNode(value)\r\n",
        "      else:\r\n",
        "        self.__insert_nodo__(nodo.rigth, value) # buscar en sub arbol ider\r\n",
        "\r\n",
        "  def buscar(self, value):\r\n",
        "    if self.__root == None:\r\n",
        "      return False\r\n",
        "    else:\r\n",
        "      # Haremos busqueda recursiva\r\n",
        "      return self.__busca_nodo(self.__root, value)\r\n",
        "  \r\n",
        "  def __busca_nodo(self, nodo, value):\r\n",
        "    if nodo == None:\r\n",
        "      return None\r\n",
        "    elif nodo.data == value:\r\n",
        "      return nodo.data\r\n",
        "    elif value < nodo.data:\r\n",
        "      return self.__busca_nodo(nodo.left, value)\r\n",
        "    else:\r\n",
        "      return self.__busca_nodo(nodo.rigth, value)\r\n",
        "  \r\n",
        "  def transversal(self, format = \"inorden\"):\r\n",
        "    if format == \"inorden\":\r\n",
        "      self.__recorrido_in(self.__root)\r\n",
        "    elif format == \"preorden\":\r\n",
        "      self.__recorrido_pre(self.__root)\r\n",
        "    elif format == \"posorden\":\r\n",
        "      self.__recorrido_pos(self.__root)\r\n",
        "    else:\r\n",
        "      print(\"Formato de recorrido no valido\")\r\n",
        "\r\n",
        "  def __recorrido_in(self,nodo):\r\n",
        "    if nodo != None:\r\n",
        "      self.__recorrido_pre(nodo.left)\r\n",
        "      print(nodo.data, end=\",\")\r\n",
        "      self.__recorrido_pre(nodo.rigth)\r\n",
        "\r\n",
        "  def __recorrido_pre(self, nodo):\r\n",
        "    if nodo != None:\r\n",
        "      print(nodo.data, end=\",\")\r\n",
        "      self.__recorrido_pre(nodo.left)\r\n",
        "      self.__recorrido_pre(nodo.rigth)\r\n",
        "    \r\n",
        "  def __recorrido_pos(self, nodo):\r\n",
        "    if nodo != None:\r\n",
        "      self.__recorrido_pre(nodo.left)\r\n",
        "      self.__recorrido_pre(nodo.rigth)\r\n",
        "      print(nodo.data, end=\",\")"
      ],
      "execution_count": 28,
      "outputs": []
    },
    {
      "cell_type": "code",
      "metadata": {
        "id": "2U9sBO5gclWM",
        "colab": {
          "base_uri": "https://localhost:8080/"
        },
        "outputId": "cc7342ac-6dea-4c27-db15-20d577698530"
      },
      "source": [
        "bst = BinarySearchTree()\r\n",
        "bst.insert(50)\r\n",
        "bst.insert(30)\r\n",
        "bst.insert(20)\r\n",
        "res = bst.buscar(30) # true o false\r\n",
        "print(\"Dato : \",res)\r\n",
        "print(bst.buscar(40))\r\n",
        "print(\"recorrido pre:\")\r\n",
        "bst.transversal(format=\"preorden\")\r\n",
        "print(\"recorrido in:\")\r\n",
        "bst.transversal()\r\n",
        "print(\"recorrido pos:\")\r\n",
        "bst.transversal(format=\"posorden\")"
      ],
      "execution_count": 29,
      "outputs": [
        {
          "output_type": "stream",
          "text": [
            "Dato :  30\n",
            "None\n",
            "recorrido pre:\n",
            "50,30,20,recorrido in:\n",
            "30,20,50,recorrido pos:\n",
            "30,20,50,"
          ],
          "name": "stdout"
        }
      ]
    }
  ]
}