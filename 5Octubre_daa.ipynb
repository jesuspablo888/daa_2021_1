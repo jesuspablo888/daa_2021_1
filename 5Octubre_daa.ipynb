{
  "nbformat": 4,
  "nbformat_minor": 0,
  "metadata": {
    "colab": {
      "name": "5Octubre_daa.ipynb",
      "provenance": [],
      "collapsed_sections": [],
      "authorship_tag": "ABX9TyMBxTzHPUaYzvbV+2Vo4rCi",
      "include_colab_link": true
    },
    "kernelspec": {
      "name": "python3",
      "display_name": "Python 3"
    }
  },
  "cells": [
    {
      "cell_type": "markdown",
      "metadata": {
        "id": "view-in-github",
        "colab_type": "text"
      },
      "source": [
        "<a href=\"https://colab.research.google.com/github/jesuspablo888/daa_2021_1/blob/master/5Octubre_daa.ipynb\" target=\"_parent\"><img src=\"https://colab.research.google.com/assets/colab-badge.svg\" alt=\"Open In Colab\"/></a>"
      ]
    },
    {
      "cell_type": "markdown",
      "metadata": {
        "id": "tdbFaEVT_aDp"
      },
      "source": [
        "# Estructuras de datos pila (Staks)\n",
        "- Last in first out (LI-FO)\n",
        "- De tipo lineal \n",
        "- Se pueden obtener o asiganar datos desde el tope \n",
        "- Push para agregara \n",
        "- pop  para sacar \n",
        "\n",
        "## Operaciones de las pilas \n",
        "1.  is _empty ( regresa true o false)\n",
        "2. get_top (regresa el elemento tope sin sacarlo)\n",
        "1. pop (saca el elemento el tope y lo regresa)\n",
        "1. push ( mete un elemento en el tope)\n",
        "1. get_lenght (regresa el numero de elementos de la pila)\n",
        "\n",
        "\n"
      ]
    },
    {
      "cell_type": "code",
      "metadata": {
        "id": "94AeK3Vi-7Q2"
      },
      "source": [
        "class Stack:\n",
        "  def __init__(self):\n",
        "    self.__datos = []\n",
        "  def is_empty(self):\n",
        "    return len(self.__datos)==0\n",
        "  def get_top(self):\n",
        "    return self.__datos[-1] #ultimo elemento (-1)\n",
        "  def pop(self):\n",
        "    return self.__datos.pop()\n",
        "  def push (self, value):\n",
        "    self.__datos.append(value)\n",
        "  def get_lenght(self):\n",
        "    return len(self.__datos)\n",
        "  def to_string(self):\n",
        "    print(\"|-------------|\")    \n",
        "    for x in self.__datos[::-1]:\n",
        "      print(f\"{x}\")\n",
        "    print(\"|-------------|\\n\")"
      ],
      "execution_count": 17,
      "outputs": []
    },
    {
      "cell_type": "code",
      "metadata": {
        "id": "6Su4DouRCtGE",
        "outputId": "6e13aba7-6bf0-4405-ac4c-d8a2dca44d45",
        "colab": {
          "base_uri": "https://localhost:8080/",
          "height": 677
        }
      },
      "source": [
        "pila1= Stack()\n",
        "pila1.push(10)\n",
        "pila1.push(20)\n",
        "pila1.push(1)\n",
        "pila1.push(393)\n",
        "pila1.push(103)\n",
        "pila1.to_string()\n",
        "\n",
        "sacado=pila1.pop()\n",
        "print(sacado)\n",
        "pila1.to_string()\n",
        "\n",
        "pila1.push(444)\n",
        "pila1.push(233)\n",
        "pila1.to_string()\n",
        "\n",
        "print(f\"El elemento en el tope es:{pila1.get_top()}\")\n",
        "pila1.to_string()\n",
        "print(f\"la pila tiene {pila1.get_lenght()} elemnetos\")\n",
        "print(f\"la pila esta vacia?: {pila1.is_empty()}\")"
      ],
      "execution_count": 23,
      "outputs": [
        {
          "output_type": "stream",
          "text": [
            "|-------------|\n",
            "103\n",
            "393\n",
            "1\n",
            "20\n",
            "10\n",
            "|-------------|\n",
            "\n",
            "103\n",
            "|-------------|\n",
            "393\n",
            "1\n",
            "20\n",
            "10\n",
            "|-------------|\n",
            "\n",
            "|-------------|\n",
            "233\n",
            "444\n",
            "393\n",
            "1\n",
            "20\n",
            "10\n",
            "|-------------|\n",
            "\n",
            "El elemento en el tope es:233\n",
            "|-------------|\n",
            "233\n",
            "444\n",
            "393\n",
            "1\n",
            "20\n",
            "10\n",
            "|-------------|\n",
            "\n",
            "la pila tiene 6 elemnetos\n",
            "la pila esta vacia?: False\n"
          ],
          "name": "stdout"
        }
      ]
    },
    {
      "cell_type": "markdown",
      "metadata": {
        "id": "9rWR4_OWIrJJ"
      },
      "source": [
        "# ejemplo de aplicacion de pilas.\n",
        "x = 4 + 5 + 6 +3\n",
        "\n",
        "x = 4 + (5 + 6)+ 3\n",
        "\n",
        "x = 4 + 5 + 6) + 3\n",
        "\n",
        "x = (4 + (5 + 6) + 3)\n",
        "\n",
        "if(a==b) {system.out.println(b)\n",
        "\n",
        "if(a==b) {system.out.println(b}\n",
        "\n",
        "# reglas \n",
        "\n",
        "### '(' --->push('@')\n",
        "\n",
        "### ')' --->pop()\n",
        "\n",
        "si el final del recorrido la pila esta vacia, entonces la cadana es correcta.\n",
        "si en un pop desencadena en querer sacar un elemento de la pila vacia significa que la cadena no esta balanceada.\n",
        "\n",
        "\n",
        "\n"
      ]
    },
    {
      "cell_type": "markdown",
      "metadata": {
        "id": "11-5f-2SNKAl"
      },
      "source": [
        "# tarea\n",
        "\n",
        "hacer un programa que valide el balenceo de '(', '{' y  '[' en programas de lenguaje c y java\n",
        "\n",
        "tomando com base el codigo de la clase "
      ]
    }
  ]
}