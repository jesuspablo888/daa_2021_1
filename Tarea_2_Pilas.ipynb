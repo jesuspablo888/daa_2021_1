{
  "nbformat": 4,
  "nbformat_minor": 0,
  "metadata": {
    "colab": {
      "name": "Tarea 2. Pilas.ipynb",
      "provenance": [],
      "collapsed_sections": [],
      "authorship_tag": "ABX9TyMtVbEd6kkm+v6qk2+tBIUA",
      "include_colab_link": true
    },
    "kernelspec": {
      "name": "python3",
      "display_name": "Python 3"
    }
  },
  "cells": [
    {
      "cell_type": "markdown",
      "metadata": {
        "id": "view-in-github",
        "colab_type": "text"
      },
      "source": [
        "<a href=\"https://colab.research.google.com/github/jesuspablo888/daa_2021_1/blob/master/Tarea_2_Pilas.ipynb\" target=\"_parent\"><img src=\"https://colab.research.google.com/assets/colab-badge.svg\" alt=\"Open In Colab\"/></a>"
      ]
    },
    {
      "cell_type": "code",
      "metadata": {
        "id": "G7h8rIEKnw_t"
      },
      "source": [
        "class Stack:\n",
        "  def __init__(self):\n",
        "    self.__datos = []\n",
        "  def is_empty(self):\n",
        "    return len(self.__datos)==0\n",
        "  def get_top(self):\n",
        "    return self.__datos[-1] #ultimo elemento (-1)\n",
        "  def pop(self):\n",
        "    return self.__datos.pop()\n",
        "  def push (self, value):\n",
        "    self.__datos.append(value)\n",
        "  def get_lenght(self):\n",
        "    return len(self.__datos)\n",
        "  def to_string(self):\n",
        "    print(\"|-------------|\")    \n",
        "    for x in self.__datos[::-1]:\n",
        "      print(f\"{x}\")\n",
        "    print(\"|-------------|\\n\")"
      ],
      "execution_count": null,
      "outputs": []
    },
    {
      "cell_type": "code",
      "metadata": {
        "id": "-EkyGQ7IhGeo",
        "outputId": "09a2ec87-710f-4f98-ff87-e91385b84bdc",
        "colab": {
          "base_uri": "https://localhost:8080/",
          "height": 624
        }
      },
      "source": [
        "c=('+++++++++++++++++++++++++++++++ Programa C +++++++++++++++++++++++++++++++\\n\\n'\n",
        "+'#include <stdio.h>\\n'\n",
        "+'int main(int argc, char const *argv[]){\\n'\n",
        "+'float L=0.0f, R=0.0f;\\n'\n",
        "+'printf(\\\"AREA DE UN CUADRADO\\n\\\");'\n",
        "+'printf(\\\"INGRESE UN LADO DEL CUADRADO: \\\");\\n'\n",
        "+'scanf(\\\"%f\\\",&L);// entrada del valor\\n'\n",
        "+'R=L*L;\\n'\n",
        "+'printf(\\\"EL ARE DEL CUADRADO ES: %.2f\\n\\\",R);// imprime el resultado\\n'\n",
        "+'return 0;\\n}')\n",
        "\n",
        "j = ('+++++++++++++++++++++++++++++++ Programa java +++++++++++++++++++++++++++++++\\n\\n'\n",
        "+'private void jButton1MouseClicked(java.awt.event.MouseEvent evt) \\n'                                 \n",
        "        +'\\tString snum1, snum2;\\n'\n",
        "        +'\\tdouble num1, num2, resultado;\\n'\n",
        "        +'\\tsnum1 = JOptionPane.showInputDialog(this, \"Valor del primer numero\", \"Suma\", WIDTH);\\n'\n",
        "        +'\\tnum1 = Double.parseDouble(snum1);\\n'\n",
        "       +'\\tsnum2 = JOptionPane.showInputDialog(this, \"Valor del segundo numero\", \"Suma\", WIDTH);\\n'\n",
        "       +'\\tnum2 = Double.parseDouble(snum2);\\n'\n",
        "        +'\\tresultado = num1 + num2 + 5;\\n'\n",
        "        +'\\tJOptionPane.showMessageDialog(this, \"La suma de \\n\\n\" + num1 + \" + \" + num2 + \" + 5 = \" + resultado, \"Resultado\", WIDTH);\\n\\n'\n",
        "\n",
        "    +'}')\n",
        "v=[c,j]\n",
        "balanceo=Stack()\n",
        "try:\n",
        "  for i in v:\n",
        "    print(i)\n",
        "    for x in i:\n",
        "      #print(x)\n",
        "      if x == '(' or x== '{' or x=='[':\n",
        "        balanceo.push('@')\n",
        "      elif x == ')' or x== '}' or x==']':\n",
        "        balanceo.pop() \n",
        "      #print(balanceo.to_string())\n",
        "    if balanceo.is_empty() :\n",
        "      print(\"\\nla cadena esta balanceada.\\n\".upper())\n",
        "    else: print(\"\\nla cadena no esta balanceada.\\n\".upper())\n",
        "except: print(\"\\nla cadena no esta balanceada.\\n\".upper())\n",
        "\n",
        "\n"
      ],
      "execution_count": null,
      "outputs": [
        {
          "output_type": "stream",
          "text": [
            "+++++++++++++++++++++++++++++++ Programa C +++++++++++++++++++++++++++++++\n",
            "\n",
            "#include <stdio.h>\n",
            "int main(int argc, char const *argv[]){\n",
            "float L=0.0f, R=0.0f;\n",
            "printf(\"AREA DE UN CUADRADO\n",
            "\");printf(\"INGRESE UN LADO DEL CUADRADO: \");\n",
            "scanf(\"%f\",&L);// entrada del valor\n",
            "R=L*L;\n",
            "printf(\"EL ARE DEL CUADRADO ES: %.2f\n",
            "\",R);// imprime el resultado\n",
            "return 0;\n",
            "}\n",
            "\n",
            "LA CADENA ESTA BALANCEADA.\n",
            "\n",
            "+++++++++++++++++++++++++++++++ Programa java +++++++++++++++++++++++++++++++\n",
            "\n",
            "private void jButton1MouseClicked(java.awt.event.MouseEvent evt) \n",
            "\tString snum1, snum2;\n",
            "\tdouble num1, num2, resultado;\n",
            "\tsnum1 = JOptionPane.showInputDialog(this, \"Valor del primer numero\", \"Suma\", WIDTH);\n",
            "\tnum1 = Double.parseDouble(snum1);\n",
            "\tsnum2 = JOptionPane.showInputDialog(this, \"Valor del segundo numero\", \"Suma\", WIDTH);\n",
            "\tnum2 = Double.parseDouble(snum2);\n",
            "\tresultado = num1 + num2 + 5;\n",
            "\tJOptionPane.showMessageDialog(this, \"La suma de \n",
            "\n",
            "\" + num1 + \" + \" + num2 + \" + 5 = \" + resultado, \"Resultado\", WIDTH);\n",
            "\n",
            "}\n",
            "\n",
            "LA CADENA NO ESTA BALANCEADA.\n",
            "\n"
          ],
          "name": "stdout"
        }
      ]
    }
  ]
}